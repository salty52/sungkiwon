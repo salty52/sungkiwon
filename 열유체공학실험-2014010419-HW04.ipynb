{
  "nbformat": 4,
  "nbformat_minor": 0,
  "metadata": {
    "colab": {
      "name": "Untitled2.ipynb",
      "provenance": [],
      "include_colab_link": true
    },
    "kernelspec": {
      "name": "python3",
      "display_name": "Python 3"
    }
  },
  "cells": [
    {
      "cell_type": "markdown",
      "metadata": {
        "id": "view-in-github",
        "colab_type": "text"
      },
      "source": [
        "<a href=\"https://colab.research.google.com/github/salty52/sungkiwon/blob/master/%EC%97%B4%EC%9C%A0%EC%B2%B4%EA%B3%B5%ED%95%99%EC%8B%A4%ED%97%98-2014010419-HW04.ipynb\" target=\"_parent\"><img src=\"https://colab.research.google.com/assets/colab-badge.svg\" alt=\"Open In Colab\"/></a>"
      ]
    },
    {
      "cell_type": "code",
      "metadata": {
        "id": "hoA4TaY8M44c",
        "colab_type": "code",
        "colab": {}
      },
      "source": [
        "import time\n",
        "start = time.time()  # 시작 시간 저장\n",
        "\n",
        "while True:\n",
        "\n",
        " num1 = int(input(\"숫자를 입력하시오\"))\n",
        "\n",
        " for i in range(1,10):\n",
        "\n",
        "  print(num1, \"X\", i, \"=\", num1*i)\n",
        " \n",
        " break\n",
        "  \n",
        "print(\"time :\", time.time() - start)  # 현재시각 - 시작시간 = 실행 시간"
      ],
      "execution_count": 0,
      "outputs": []
    },
    {
      "cell_type": "code",
      "metadata": {
        "id": "IFQ6KNr2M5oP",
        "colab_type": "code",
        "colab": {}
      },
      "source": [
        "import time\n",
        "start = time.time()  # 시작 시간 저장\n",
        "\n",
        "\n",
        "import numpy as np\n",
        "x = np.arange(100)\n",
        "x\n",
        "num=int(input(\"숫자를 입력하시오\"))\n",
        "num2=num*10\n",
        "x[num:num2:num]\n",
        "\n",
        "print(\"time :\", time.time() - start)  # 현재시각 - 시작시간 = 실행 시간"
      ],
      "execution_count": 0,
      "outputs": []
    },
    {
      "cell_type": "code",
      "metadata": {
        "id": "6WS8jT1IC18U",
        "colab_type": "code",
        "colab": {}
      },
      "source": [
        "from numba import vectorize\n",
        "@vectorize(['int16(int16, int16)'], target='cuda')\n",
        "def gugudan():\n",
        "  num2 = int(input(\"숫자를 입력하시오\")\n",
        "  for i in range (1,10):\n",
        "    print(num2,  \"X\", i \"=\", num2*i)\n",
        "    \n",
        "   break\n",
        "   \n",
        " "
      ],
      "execution_count": 0,
      "outputs": []
    },
    {
      "cell_type": "code",
      "metadata": {
        "id": "ylY8zwApD7Ma",
        "colab_type": "code",
        "colab": {}
      },
      "source": [
        ""
      ],
      "execution_count": 0,
      "outputs": []
    }
  ]
}