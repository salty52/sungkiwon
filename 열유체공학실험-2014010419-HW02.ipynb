{
  "nbformat": 4,
  "nbformat_minor": 0,
  "metadata": {
    "colab": {
      "name": "Untitled2.ipynb",
      "version": "0.3.2",
      "provenance": [],
      "include_colab_link": true
    },
    "kernelspec": {
      "name": "python3",
      "display_name": "Python 3"
    }
  },
  "cells": [
    {
      "cell_type": "markdown",
      "metadata": {
        "id": "view-in-github",
        "colab_type": "text"
      },
      "source": [
        "<a href=\"https://colab.research.google.com/github/salty52/sungkiwon/blob/master/%EC%97%B4%EC%9C%A0%EC%B2%B4%EA%B3%B5%ED%95%99%EC%8B%A4%ED%97%98-2014010419-HW02.ipynb\" target=\"_parent\"><img src=\"https://colab.research.google.com/assets/colab-badge.svg\" alt=\"Open In Colab\"/></a>"
      ]
    },
    {
      "cell_type": "code",
      "metadata": {
        "id": "hoA4TaY8M44c",
        "colab_type": "code",
        "colab": {
          "base_uri": "https://localhost:8080/",
          "height": 197
        },
        "outputId": "408f6f22-7baf-4009-b152-b60edaa5cb10"
      },
      "source": [
        "while True:\n",
        "\n",
        " num1 = int(input(\"숫자를 입력하시오\"))\n",
        "\n",
        " for i in range(1,10):\n",
        "\n",
        "  print(num1, \"X\", i, \"=\", num1*i)\n",
        " \n",
        " break"
      ],
      "execution_count": 1,
      "outputs": [
        {
          "output_type": "stream",
          "text": [
            "숫자를 입력하시오3\n",
            "3 X 1 = 3\n",
            "3 X 2 = 6\n",
            "3 X 3 = 9\n",
            "3 X 4 = 12\n",
            "3 X 5 = 15\n",
            "3 X 6 = 18\n",
            "3 X 7 = 21\n",
            "3 X 8 = 24\n",
            "3 X 9 = 27\n"
          ],
          "name": "stdout"
        }
      ]
    },
    {
      "cell_type": "code",
      "metadata": {
        "id": "IFQ6KNr2M5oP",
        "colab_type": "code",
        "colab": {}
      },
      "source": [
        ""
      ],
      "execution_count": 0,
      "outputs": []
    }
  ]
}